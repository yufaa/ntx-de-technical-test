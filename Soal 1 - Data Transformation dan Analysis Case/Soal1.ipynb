{
 "cells": [
  {
   "cell_type": "markdown",
   "metadata": {},
   "source": [
    "## Business Understanding "
   ]
  },
  {
   "cell_type": "markdown",
   "metadata": {},
   "source": [
    "The client wants to better understand user behavior and improve its ecommerce platform. The management has identified several scenarios where more data could be helpful:\n",
    "* Identify top products based on the total transaction revenue per day.\n",
    "* Detect any anomalies, such as a sharp decrease or increase in the number of transactions for a specific product.\n",
    "* Identify the most profitable city or province based on the total transaction revenue."
   ]
  },
  {
   "cell_type": "markdown",
   "metadata": {},
   "source": [
    "## Data Understanding"
   ]
  },
  {
   "cell_type": "code",
   "execution_count": 39,
   "metadata": {},
   "outputs": [],
   "source": [
    "import pandas as pd\n",
    "import numpy as np"
   ]
  },
  {
   "cell_type": "code",
   "execution_count": 40,
   "metadata": {},
   "outputs": [
    {
     "data": {
      "text/html": [
       "<div>\n",
       "<style scoped>\n",
       "    .dataframe tbody tr th:only-of-type {\n",
       "        vertical-align: middle;\n",
       "    }\n",
       "\n",
       "    .dataframe tbody tr th {\n",
       "        vertical-align: top;\n",
       "    }\n",
       "\n",
       "    .dataframe thead th {\n",
       "        text-align: right;\n",
       "    }\n",
       "</style>\n",
       "<table border=\"1\" class=\"dataframe\">\n",
       "  <thead>\n",
       "    <tr style=\"text-align: right;\">\n",
       "      <th></th>\n",
       "      <th>fullVisitorId</th>\n",
       "      <th>channelGrouping</th>\n",
       "      <th>time</th>\n",
       "      <th>country</th>\n",
       "      <th>city</th>\n",
       "      <th>totalTransactionRevenue</th>\n",
       "      <th>transactions</th>\n",
       "      <th>timeOnSite</th>\n",
       "      <th>pageviews</th>\n",
       "      <th>sessionQualityDim</th>\n",
       "      <th>date</th>\n",
       "      <th>visitId</th>\n",
       "      <th>type</th>\n",
       "      <th>productRefundAmount</th>\n",
       "      <th>productQuantity</th>\n",
       "      <th>productPrice</th>\n",
       "      <th>productRevenue</th>\n",
       "      <th>productSKU</th>\n",
       "      <th>v2ProductName</th>\n",
       "      <th>v2ProductCategory</th>\n",
       "      <th>productVariant</th>\n",
       "      <th>currencyCode</th>\n",
       "      <th>itemQuantity</th>\n",
       "      <th>itemRevenue</th>\n",
       "      <th>transactionRevenue</th>\n",
       "      <th>transactionId</th>\n",
       "      <th>pageTitle</th>\n",
       "      <th>searchKeyword</th>\n",
       "      <th>pagePathLevel1</th>\n",
       "      <th>eCommerceAction_type</th>\n",
       "      <th>eCommerceAction_step</th>\n",
       "      <th>eCommerceAction_option</th>\n",
       "    </tr>\n",
       "  </thead>\n",
       "  <tbody>\n",
       "    <tr>\n",
       "      <th>0</th>\n",
       "      <td>2515546493837534633</td>\n",
       "      <td>Organic Search</td>\n",
       "      <td>966564</td>\n",
       "      <td>Taiwan</td>\n",
       "      <td>(not set)</td>\n",
       "      <td>NaN</td>\n",
       "      <td>NaN</td>\n",
       "      <td>1567.0</td>\n",
       "      <td>82.0</td>\n",
       "      <td>17.0</td>\n",
       "      <td>20170721</td>\n",
       "      <td>1500643403</td>\n",
       "      <td>PAGE</td>\n",
       "      <td>NaN</td>\n",
       "      <td>NaN</td>\n",
       "      <td>0</td>\n",
       "      <td>NaN</td>\n",
       "      <td>9180781</td>\n",
       "      <td>Suitcase Organizer Cubes</td>\n",
       "      <td>(not set)</td>\n",
       "      <td>(not set)</td>\n",
       "      <td>USD</td>\n",
       "      <td>NaN</td>\n",
       "      <td>NaN</td>\n",
       "      <td>NaN</td>\n",
       "      <td>NaN</td>\n",
       "      <td>NaN</td>\n",
       "      <td>NaN</td>\n",
       "      <td>/storeitem.html</td>\n",
       "      <td>0</td>\n",
       "      <td>1</td>\n",
       "      <td>NaN</td>\n",
       "    </tr>\n",
       "    <tr>\n",
       "      <th>1</th>\n",
       "      <td>9361741997835388618</td>\n",
       "      <td>Organic Search</td>\n",
       "      <td>157377</td>\n",
       "      <td>France</td>\n",
       "      <td>not available in demo dataset</td>\n",
       "      <td>NaN</td>\n",
       "      <td>NaN</td>\n",
       "      <td>321.0</td>\n",
       "      <td>8.0</td>\n",
       "      <td>NaN</td>\n",
       "      <td>20170413</td>\n",
       "      <td>1492114470</td>\n",
       "      <td>PAGE</td>\n",
       "      <td>NaN</td>\n",
       "      <td>NaN</td>\n",
       "      <td>0</td>\n",
       "      <td>NaN</td>\n",
       "      <td>9180793</td>\n",
       "      <td>26 oz Double Wall Insulated Bottle</td>\n",
       "      <td>(not set)</td>\n",
       "      <td>(not set)</td>\n",
       "      <td>USD</td>\n",
       "      <td>NaN</td>\n",
       "      <td>NaN</td>\n",
       "      <td>NaN</td>\n",
       "      <td>NaN</td>\n",
       "      <td>NaN</td>\n",
       "      <td>NaN</td>\n",
       "      <td>/storeitem.html</td>\n",
       "      <td>0</td>\n",
       "      <td>1</td>\n",
       "      <td>NaN</td>\n",
       "    </tr>\n",
       "    <tr>\n",
       "      <th>2</th>\n",
       "      <td>7313828956068851679</td>\n",
       "      <td>Referral</td>\n",
       "      <td>228279</td>\n",
       "      <td>United States</td>\n",
       "      <td>San Francisco</td>\n",
       "      <td>NaN</td>\n",
       "      <td>NaN</td>\n",
       "      <td>927.0</td>\n",
       "      <td>11.0</td>\n",
       "      <td>63.0</td>\n",
       "      <td>20170727</td>\n",
       "      <td>1501198444</td>\n",
       "      <td>PAGE</td>\n",
       "      <td>NaN</td>\n",
       "      <td>NaN</td>\n",
       "      <td>0</td>\n",
       "      <td>NaN</td>\n",
       "      <td>9180838</td>\n",
       "      <td>Metal Texture Roller Pen</td>\n",
       "      <td>(not set)</td>\n",
       "      <td>(not set)</td>\n",
       "      <td>USD</td>\n",
       "      <td>NaN</td>\n",
       "      <td>NaN</td>\n",
       "      <td>NaN</td>\n",
       "      <td>NaN</td>\n",
       "      <td>NaN</td>\n",
       "      <td>NaN</td>\n",
       "      <td>/storeitem.html</td>\n",
       "      <td>0</td>\n",
       "      <td>1</td>\n",
       "      <td>NaN</td>\n",
       "    </tr>\n",
       "    <tr>\n",
       "      <th>3</th>\n",
       "      <td>6036794406403793540</td>\n",
       "      <td>Organic Search</td>\n",
       "      <td>1615618</td>\n",
       "      <td>United States</td>\n",
       "      <td>Boulder</td>\n",
       "      <td>NaN</td>\n",
       "      <td>NaN</td>\n",
       "      <td>1616.0</td>\n",
       "      <td>13.0</td>\n",
       "      <td>38.0</td>\n",
       "      <td>20170731</td>\n",
       "      <td>1501522359</td>\n",
       "      <td>PAGE</td>\n",
       "      <td>NaN</td>\n",
       "      <td>NaN</td>\n",
       "      <td>0</td>\n",
       "      <td>NaN</td>\n",
       "      <td>9180838</td>\n",
       "      <td>Metal Texture Roller Pen</td>\n",
       "      <td>(not set)</td>\n",
       "      <td>(not set)</td>\n",
       "      <td>USD</td>\n",
       "      <td>NaN</td>\n",
       "      <td>NaN</td>\n",
       "      <td>NaN</td>\n",
       "      <td>NaN</td>\n",
       "      <td>NaN</td>\n",
       "      <td>NaN</td>\n",
       "      <td>/storeitem.html</td>\n",
       "      <td>0</td>\n",
       "      <td>1</td>\n",
       "      <td>NaN</td>\n",
       "    </tr>\n",
       "    <tr>\n",
       "      <th>4</th>\n",
       "      <td>7847280609739507227</td>\n",
       "      <td>Organic Search</td>\n",
       "      <td>37832</td>\n",
       "      <td>Canada</td>\n",
       "      <td>not available in demo dataset</td>\n",
       "      <td>NaN</td>\n",
       "      <td>NaN</td>\n",
       "      <td>1222.0</td>\n",
       "      <td>45.0</td>\n",
       "      <td>53.0</td>\n",
       "      <td>20170728</td>\n",
       "      <td>1501300311</td>\n",
       "      <td>PAGE</td>\n",
       "      <td>NaN</td>\n",
       "      <td>NaN</td>\n",
       "      <td>0</td>\n",
       "      <td>NaN</td>\n",
       "      <td>9180838</td>\n",
       "      <td>Metal Texture Roller Pen</td>\n",
       "      <td>(not set)</td>\n",
       "      <td>(not set)</td>\n",
       "      <td>USD</td>\n",
       "      <td>NaN</td>\n",
       "      <td>NaN</td>\n",
       "      <td>NaN</td>\n",
       "      <td>NaN</td>\n",
       "      <td>NaN</td>\n",
       "      <td>NaN</td>\n",
       "      <td>/storeitem.html</td>\n",
       "      <td>0</td>\n",
       "      <td>1</td>\n",
       "      <td>NaN</td>\n",
       "    </tr>\n",
       "  </tbody>\n",
       "</table>\n",
       "</div>"
      ],
      "text/plain": [
       "         fullVisitorId channelGrouping     time        country  \\\n",
       "0  2515546493837534633  Organic Search   966564         Taiwan   \n",
       "1  9361741997835388618  Organic Search   157377         France   \n",
       "2  7313828956068851679        Referral   228279  United States   \n",
       "3  6036794406403793540  Organic Search  1615618  United States   \n",
       "4  7847280609739507227  Organic Search    37832         Canada   \n",
       "\n",
       "                            city  totalTransactionRevenue  transactions  \\\n",
       "0                      (not set)                      NaN           NaN   \n",
       "1  not available in demo dataset                      NaN           NaN   \n",
       "2                  San Francisco                      NaN           NaN   \n",
       "3                        Boulder                      NaN           NaN   \n",
       "4  not available in demo dataset                      NaN           NaN   \n",
       "\n",
       "   timeOnSite  pageviews  sessionQualityDim      date     visitId  type  \\\n",
       "0      1567.0       82.0               17.0  20170721  1500643403  PAGE   \n",
       "1       321.0        8.0                NaN  20170413  1492114470  PAGE   \n",
       "2       927.0       11.0               63.0  20170727  1501198444  PAGE   \n",
       "3      1616.0       13.0               38.0  20170731  1501522359  PAGE   \n",
       "4      1222.0       45.0               53.0  20170728  1501300311  PAGE   \n",
       "\n",
       "   productRefundAmount  productQuantity  productPrice  productRevenue  \\\n",
       "0                  NaN              NaN             0             NaN   \n",
       "1                  NaN              NaN             0             NaN   \n",
       "2                  NaN              NaN             0             NaN   \n",
       "3                  NaN              NaN             0             NaN   \n",
       "4                  NaN              NaN             0             NaN   \n",
       "\n",
       "  productSKU                       v2ProductName v2ProductCategory  \\\n",
       "0    9180781            Suitcase Organizer Cubes         (not set)   \n",
       "1    9180793  26 oz Double Wall Insulated Bottle         (not set)   \n",
       "2    9180838            Metal Texture Roller Pen         (not set)   \n",
       "3    9180838            Metal Texture Roller Pen         (not set)   \n",
       "4    9180838            Metal Texture Roller Pen         (not set)   \n",
       "\n",
       "  productVariant currencyCode  itemQuantity  itemRevenue  transactionRevenue  \\\n",
       "0      (not set)          USD           NaN          NaN                 NaN   \n",
       "1      (not set)          USD           NaN          NaN                 NaN   \n",
       "2      (not set)          USD           NaN          NaN                 NaN   \n",
       "3      (not set)          USD           NaN          NaN                 NaN   \n",
       "4      (not set)          USD           NaN          NaN                 NaN   \n",
       "\n",
       "   transactionId pageTitle  searchKeyword   pagePathLevel1  \\\n",
       "0            NaN       NaN            NaN  /storeitem.html   \n",
       "1            NaN       NaN            NaN  /storeitem.html   \n",
       "2            NaN       NaN            NaN  /storeitem.html   \n",
       "3            NaN       NaN            NaN  /storeitem.html   \n",
       "4            NaN       NaN            NaN  /storeitem.html   \n",
       "\n",
       "   eCommerceAction_type  eCommerceAction_step  eCommerceAction_option  \n",
       "0                     0                     1                     NaN  \n",
       "1                     0                     1                     NaN  \n",
       "2                     0                     1                     NaN  \n",
       "3                     0                     1                     NaN  \n",
       "4                     0                     1                     NaN  "
      ]
     },
     "execution_count": 40,
     "metadata": {},
     "output_type": "execute_result"
    }
   ],
   "source": [
    "df = pd.read_csv(\"ecommerce-session-bigquery.csv\", sep=\",\")\n",
    "pd.options.display.max_columns=100\n",
    "df.head()"
   ]
  },
  {
   "cell_type": "code",
   "execution_count": 41,
   "metadata": {},
   "outputs": [
    {
     "data": {
      "text/plain": [
       "array([nan,  1.,  2.,  3.,  6.])"
      ]
     },
     "execution_count": 41,
     "metadata": {},
     "output_type": "execute_result"
    }
   ],
   "source": [
    "# check value each columns\n",
    "df[\"transactions\"].unique()\n"
   ]
  },
  {
   "cell_type": "code",
   "execution_count": 42,
   "metadata": {},
   "outputs": [
    {
     "data": {
      "text/plain": [
       "Index(['fullVisitorId', 'channelGrouping', 'time', 'country', 'city',\n",
       "       'totalTransactionRevenue', 'transactions', 'timeOnSite', 'pageviews',\n",
       "       'sessionQualityDim', 'date', 'visitId', 'type', 'productRefundAmount',\n",
       "       'productQuantity', 'productPrice', 'productRevenue', 'productSKU',\n",
       "       'v2ProductName', 'v2ProductCategory', 'productVariant', 'currencyCode',\n",
       "       'itemQuantity', 'itemRevenue', 'transactionRevenue', 'transactionId',\n",
       "       'pageTitle', 'searchKeyword', 'pagePathLevel1', 'eCommerceAction_type',\n",
       "       'eCommerceAction_step', 'eCommerceAction_option'],\n",
       "      dtype='object')"
      ]
     },
     "execution_count": 42,
     "metadata": {},
     "output_type": "execute_result"
    }
   ],
   "source": [
    "df.columns"
   ]
  },
  {
   "cell_type": "markdown",
   "metadata": {},
   "source": [
    "### Melakukan seleksi fitur secara manual berdasarkan business problem and column explanation"
   ]
  },
  {
   "cell_type": "markdown",
   "metadata": {},
   "source": [
    "'channelGrouping', 'time', 'country', 'city',\n",
    "'totalTransactionRevenue', 'transactions', \n",
    "'date',\n",
    "'productQuantity', 'productPrice',\n",
    "'v2ProductName'"
   ]
  },
  {
   "cell_type": "markdown",
   "metadata": {},
   "source": [
    "1. date, productname, total transaction renevue, transaction,  \n",
    "2. date, productname, total transaction revenue\n",
    "3. Date, TTR, city, country, \n",
    "\n",
    "channel grouping mana yang menghasilkan checkout lebih besar."
   ]
  },
  {
   "cell_type": "code",
   "execution_count": 43,
   "metadata": {},
   "outputs": [
    {
     "name": "stdout",
     "output_type": "stream",
     "text": [
      "<class 'pandas.core.frame.DataFrame'>\n",
      "RangeIndex: 10000 entries, 0 to 9999\n",
      "Data columns (total 32 columns):\n",
      " #   Column                   Non-Null Count  Dtype  \n",
      "---  ------                   --------------  -----  \n",
      " 0   fullVisitorId            10000 non-null  uint64 \n",
      " 1   channelGrouping          10000 non-null  object \n",
      " 2   time                     10000 non-null  int64  \n",
      " 3   country                  10000 non-null  object \n",
      " 4   city                     10000 non-null  object \n",
      " 5   totalTransactionRevenue  619 non-null    float64\n",
      " 6   transactions             628 non-null    float64\n",
      " 7   timeOnSite               9713 non-null   float64\n",
      " 8   pageviews                9999 non-null   float64\n",
      " 9   sessionQualityDim        19 non-null     float64\n",
      " 10  date                     10000 non-null  int64  \n",
      " 11  visitId                  10000 non-null  int64  \n",
      " 12  type                     10000 non-null  object \n",
      " 13  productRefundAmount      0 non-null      float64\n",
      " 14  productQuantity          45 non-null     float64\n",
      " 15  productPrice             10000 non-null  int64  \n",
      " 16  productRevenue           0 non-null      float64\n",
      " 17  productSKU               10000 non-null  object \n",
      " 18  v2ProductName            10000 non-null  object \n",
      " 19  v2ProductCategory        10000 non-null  object \n",
      " 20  productVariant           10000 non-null  object \n",
      " 21  currencyCode             9614 non-null   object \n",
      " 22  itemQuantity             0 non-null      float64\n",
      " 23  itemRevenue              0 non-null      float64\n",
      " 24  transactionRevenue       0 non-null      float64\n",
      " 25  transactionId            0 non-null      float64\n",
      " 26  pageTitle                9908 non-null   object \n",
      " 27  searchKeyword            0 non-null      float64\n",
      " 28  pagePathLevel1           10000 non-null  object \n",
      " 29  eCommerceAction_type     10000 non-null  int64  \n",
      " 30  eCommerceAction_step     10000 non-null  int64  \n",
      " 31  eCommerceAction_option   0 non-null      float64\n",
      "dtypes: float64(14), int64(6), object(11), uint64(1)\n",
      "memory usage: 2.4+ MB\n"
     ]
    }
   ],
   "source": [
    "df.info()"
   ]
  },
  {
   "cell_type": "markdown",
   "metadata": {},
   "source": [
    "# Case 1 "
   ]
  },
  {
   "cell_type": "code",
   "execution_count": 44,
   "metadata": {},
   "outputs": [
    {
     "data": {
      "text/html": [
       "<div>\n",
       "<style scoped>\n",
       "    .dataframe tbody tr th:only-of-type {\n",
       "        vertical-align: middle;\n",
       "    }\n",
       "\n",
       "    .dataframe tbody tr th {\n",
       "        vertical-align: top;\n",
       "    }\n",
       "\n",
       "    .dataframe thead th {\n",
       "        text-align: right;\n",
       "    }\n",
       "</style>\n",
       "<table border=\"1\" class=\"dataframe\">\n",
       "  <thead>\n",
       "    <tr style=\"text-align: right;\">\n",
       "      <th></th>\n",
       "      <th>date</th>\n",
       "      <th>productSKU</th>\n",
       "      <th>v2ProductName</th>\n",
       "      <th>totalTransactionRevenue</th>\n",
       "      <th>productPrice</th>\n",
       "      <th>transactions</th>\n",
       "      <th>country</th>\n",
       "      <th>city</th>\n",
       "      <th>channelGrouping</th>\n",
       "    </tr>\n",
       "  </thead>\n",
       "  <tbody>\n",
       "    <tr>\n",
       "      <th>0</th>\n",
       "      <td>20170721</td>\n",
       "      <td>9180781</td>\n",
       "      <td>Suitcase Organizer Cubes</td>\n",
       "      <td>NaN</td>\n",
       "      <td>0</td>\n",
       "      <td>NaN</td>\n",
       "      <td>Taiwan</td>\n",
       "      <td>(not set)</td>\n",
       "      <td>Organic Search</td>\n",
       "    </tr>\n",
       "    <tr>\n",
       "      <th>1</th>\n",
       "      <td>20170413</td>\n",
       "      <td>9180793</td>\n",
       "      <td>26 oz Double Wall Insulated Bottle</td>\n",
       "      <td>NaN</td>\n",
       "      <td>0</td>\n",
       "      <td>NaN</td>\n",
       "      <td>France</td>\n",
       "      <td>not available in demo dataset</td>\n",
       "      <td>Organic Search</td>\n",
       "    </tr>\n",
       "    <tr>\n",
       "      <th>2</th>\n",
       "      <td>20170727</td>\n",
       "      <td>9180838</td>\n",
       "      <td>Metal Texture Roller Pen</td>\n",
       "      <td>NaN</td>\n",
       "      <td>0</td>\n",
       "      <td>NaN</td>\n",
       "      <td>United States</td>\n",
       "      <td>San Francisco</td>\n",
       "      <td>Referral</td>\n",
       "    </tr>\n",
       "    <tr>\n",
       "      <th>3</th>\n",
       "      <td>20170731</td>\n",
       "      <td>9180838</td>\n",
       "      <td>Metal Texture Roller Pen</td>\n",
       "      <td>NaN</td>\n",
       "      <td>0</td>\n",
       "      <td>NaN</td>\n",
       "      <td>United States</td>\n",
       "      <td>Boulder</td>\n",
       "      <td>Organic Search</td>\n",
       "    </tr>\n",
       "    <tr>\n",
       "      <th>4</th>\n",
       "      <td>20170728</td>\n",
       "      <td>9180838</td>\n",
       "      <td>Metal Texture Roller Pen</td>\n",
       "      <td>NaN</td>\n",
       "      <td>0</td>\n",
       "      <td>NaN</td>\n",
       "      <td>Canada</td>\n",
       "      <td>not available in demo dataset</td>\n",
       "      <td>Organic Search</td>\n",
       "    </tr>\n",
       "  </tbody>\n",
       "</table>\n",
       "</div>"
      ],
      "text/plain": [
       "       date productSKU                       v2ProductName  \\\n",
       "0  20170721    9180781            Suitcase Organizer Cubes   \n",
       "1  20170413    9180793  26 oz Double Wall Insulated Bottle   \n",
       "2  20170727    9180838            Metal Texture Roller Pen   \n",
       "3  20170731    9180838            Metal Texture Roller Pen   \n",
       "4  20170728    9180838            Metal Texture Roller Pen   \n",
       "\n",
       "   totalTransactionRevenue  productPrice  transactions        country  \\\n",
       "0                      NaN             0           NaN         Taiwan   \n",
       "1                      NaN             0           NaN         France   \n",
       "2                      NaN             0           NaN  United States   \n",
       "3                      NaN             0           NaN  United States   \n",
       "4                      NaN             0           NaN         Canada   \n",
       "\n",
       "                            city channelGrouping  \n",
       "0                      (not set)  Organic Search  \n",
       "1  not available in demo dataset  Organic Search  \n",
       "2                  San Francisco        Referral  \n",
       "3                        Boulder  Organic Search  \n",
       "4  not available in demo dataset  Organic Search  "
      ]
     },
     "execution_count": 44,
     "metadata": {},
     "output_type": "execute_result"
    }
   ],
   "source": [
    "selected_columns = ['date', 'productSKU', 'v2ProductName',  'totalTransactionRevenue', \n",
    "                    'productPrice', 'transactions','country', 'city', 'channelGrouping']\n",
    "\n",
    "df_selected = df[selected_columns]\n",
    "df_selected.head()"
   ]
  },
  {
   "cell_type": "markdown",
   "metadata": {},
   "source": [
    "## Preprocessing"
   ]
  },
  {
   "cell_type": "markdown",
   "metadata": {},
   "source": [
    "### checking\n",
    "\n",
    "saya melakukan pengecekan nilai dari kolom totaltransactionrevenue, transaction, productprice dengan hipotesa bahwa ketiga data tersebut saling berkorelasi. dan jika data tersebut berkorelasi kita akan mendapatkan data tambahan untuk total Total Transactionrevenue.\n",
    "\n",
    "H0 -> totaltransactiorevenue == transaction * productprice \n",
    "\n",
    "- Hipotesis salah"
   ]
  },
  {
   "cell_type": "code",
   "execution_count": 45,
   "metadata": {},
   "outputs": [
    {
     "name": "stdout",
     "output_type": "stream",
     "text": [
      "<class 'pandas.core.frame.DataFrame'>\n",
      "RangeIndex: 10000 entries, 0 to 9999\n",
      "Data columns (total 9 columns):\n",
      " #   Column                   Non-Null Count  Dtype  \n",
      "---  ------                   --------------  -----  \n",
      " 0   date                     10000 non-null  int64  \n",
      " 1   productSKU               10000 non-null  object \n",
      " 2   v2ProductName            10000 non-null  object \n",
      " 3   totalTransactionRevenue  619 non-null    float64\n",
      " 4   productPrice             10000 non-null  int64  \n",
      " 5   transactions             628 non-null    float64\n",
      " 6   country                  10000 non-null  object \n",
      " 7   city                     10000 non-null  object \n",
      " 8   channelGrouping          10000 non-null  object \n",
      "dtypes: float64(2), int64(2), object(5)\n",
      "memory usage: 703.2+ KB\n"
     ]
    }
   ],
   "source": [
    "df_selected.info()"
   ]
  },
  {
   "cell_type": "code",
   "execution_count": 46,
   "metadata": {},
   "outputs": [],
   "source": [
    "df_filled = df_selected.fillna(0)"
   ]
  },
  {
   "cell_type": "code",
   "execution_count": 47,
   "metadata": {},
   "outputs": [
    {
     "name": "stdout",
     "output_type": "stream",
     "text": [
      "<class 'pandas.core.frame.DataFrame'>\n",
      "RangeIndex: 10000 entries, 0 to 9999\n",
      "Data columns (total 9 columns):\n",
      " #   Column                   Non-Null Count  Dtype  \n",
      "---  ------                   --------------  -----  \n",
      " 0   date                     10000 non-null  int64  \n",
      " 1   productSKU               10000 non-null  object \n",
      " 2   v2ProductName            10000 non-null  object \n",
      " 3   totalTransactionRevenue  10000 non-null  float64\n",
      " 4   productPrice             10000 non-null  int64  \n",
      " 5   transactions             10000 non-null  float64\n",
      " 6   country                  10000 non-null  object \n",
      " 7   city                     10000 non-null  object \n",
      " 8   channelGrouping          10000 non-null  object \n",
      "dtypes: float64(2), int64(2), object(5)\n",
      "memory usage: 703.2+ KB\n"
     ]
    }
   ],
   "source": [
    "df_filled.info()"
   ]
  },
  {
   "cell_type": "code",
   "execution_count": 48,
   "metadata": {},
   "outputs": [],
   "source": [
    "df_filled['date'] = df_filled['date'].astype(str)  # konversi tipedata kedalam string sebelum dikonversi ke datetime\n",
    "df_filled['date'] = pd.to_datetime(df_filled['date'], format='%Y%m%d') # konversi ke datetime dengan format '%Y%m%d' untuk memudahkan analisa   "
   ]
  },
  {
   "cell_type": "code",
   "execution_count": 49,
   "metadata": {},
   "outputs": [
    {
     "name": "stdout",
     "output_type": "stream",
     "text": [
      "Top Products by Daily Revenue for 2017-04-16:\n"
     ]
    },
    {
     "data": {
      "text/html": [
       "<div>\n",
       "<style scoped>\n",
       "    .dataframe tbody tr th:only-of-type {\n",
       "        vertical-align: middle;\n",
       "    }\n",
       "\n",
       "    .dataframe tbody tr th {\n",
       "        vertical-align: top;\n",
       "    }\n",
       "\n",
       "    .dataframe thead th {\n",
       "        text-align: right;\n",
       "    }\n",
       "</style>\n",
       "<table border=\"1\" class=\"dataframe\">\n",
       "  <thead>\n",
       "    <tr style=\"text-align: right;\">\n",
       "      <th></th>\n",
       "      <th>productSKU</th>\n",
       "      <th>date</th>\n",
       "      <th>v2ProductName</th>\n",
       "      <th>totalTransactionRevenue</th>\n",
       "    </tr>\n",
       "  </thead>\n",
       "  <tbody>\n",
       "    <tr>\n",
       "      <th>27</th>\n",
       "      <td>9182721</td>\n",
       "      <td>2017-04-16</td>\n",
       "      <td>Google Men's 100% Cotton Short Sleeve Hero Tee...</td>\n",
       "      <td>122390000.0</td>\n",
       "    </tr>\n",
       "  </tbody>\n",
       "</table>\n",
       "</div>"
      ],
      "text/plain": [
       "   productSKU        date                                      v2ProductName  \\\n",
       "27    9182721  2017-04-16  Google Men's 100% Cotton Short Sleeve Hero Tee...   \n",
       "\n",
       "    totalTransactionRevenue  \n",
       "27              122390000.0  "
      ]
     },
     "execution_count": 49,
     "metadata": {},
     "output_type": "execute_result"
    }
   ],
   "source": [
    "# Group by productSKU and date, then aggregate totalTransactionRevenue\n",
    "daily_revenue = df_filled.groupby(['productSKU', df_filled['date'].dt.date]).agg({\n",
    "    'v2ProductName': 'first',\n",
    "    'totalTransactionRevenue': 'sum'\n",
    "}).reset_index()\n",
    "\n",
    "def get_top_products_for_date(df, date):\n",
    "    # Filter the daily_revenue DataFrame based on the specified date\n",
    "    filtered_revenue = df[df['date'] == date]\n",
    "\n",
    "    # Sort by daily revenue in descending order to get top products\n",
    "    top_products = filtered_revenue.sort_values(by='totalTransactionRevenue', ascending=False)\n",
    "\n",
    "    return top_products\n",
    "\n",
    "# User input for the date (e.g., '2024-07-20')\n",
    "user_date_input = '2017-04-16'\n",
    "user_date = pd.to_datetime(user_date_input).date()\n",
    "\n",
    "# Get top products for the specified date\n",
    "top_products_for_date = get_top_products_for_date(daily_revenue, user_date)\n",
    "\n",
    "# Display top products\n",
    "print(f\"Top Products by Daily Revenue for {user_date}:\")\n",
    "top_products_for_date.head(50)"
   ]
  },
  {
   "cell_type": "markdown",
   "metadata": {},
   "source": [
    "# Case 2"
   ]
  },
  {
   "cell_type": "markdown",
   "metadata": {},
   "source": [
    "## 2016-08-01 - 2017-08-01"
   ]
  },
  {
   "cell_type": "code",
   "execution_count": 50,
   "metadata": {},
   "outputs": [
    {
     "name": "stdout",
     "output_type": "stream",
     "text": [
      "<class 'pandas.core.frame.DataFrame'>\n",
      "RangeIndex: 10000 entries, 0 to 9999\n",
      "Data columns (total 9 columns):\n",
      " #   Column                   Non-Null Count  Dtype         \n",
      "---  ------                   --------------  -----         \n",
      " 0   date                     10000 non-null  datetime64[ns]\n",
      " 1   productSKU               10000 non-null  object        \n",
      " 2   v2ProductName            10000 non-null  object        \n",
      " 3   totalTransactionRevenue  10000 non-null  float64       \n",
      " 4   productPrice             10000 non-null  int64         \n",
      " 5   transactions             10000 non-null  float64       \n",
      " 6   country                  10000 non-null  object        \n",
      " 7   city                     10000 non-null  object        \n",
      " 8   channelGrouping          10000 non-null  object        \n",
      "dtypes: datetime64[ns](1), float64(2), int64(1), object(5)\n",
      "memory usage: 703.2+ KB\n"
     ]
    }
   ],
   "source": [
    "df_filled.info()"
   ]
  },
  {
   "cell_type": "markdown",
   "metadata": {},
   "source": [
    "Berdasarkan saran dari gpt, anomali detection bisa dilakukan dengan melakukan analisa statistikal. salah satunya adalah dengan menghitung nilai rata-rata dan z-score man menganalisa data yang berada jauh dari matriks tersebut"
   ]
  },
  {
   "cell_type": "markdown",
   "metadata": {},
   "source": [
    "### Analisa anomali dengan rata-rata"
   ]
  },
  {
   "cell_type": "code",
   "execution_count": 56,
   "metadata": {},
   "outputs": [
    {
     "name": "stdout",
     "output_type": "stream",
     "text": [
      "Average number of transactions per day for Google Men's 100% Cotton Short Sleeve Hero Tee Black: 0.25\n"
     ]
    },
    {
     "data": {
      "image/png": "[encoded data removed]",
      "text/plain": [
       "<Figure size 1200x600 with 1 Axes>"
      ]
     },
     "metadata": {},
     "output_type": "display_data"
    }
   ],
   "source": [
    "import pandas as pd\n",
    "\n",
    "\n",
    "# Filter the dataset for a specific product\n",
    "product_name = \"Google Men's 100% Cotton Short Sleeve Hero Tee Black\"  # Replace with the specific product name\n",
    "df_product = df_filled[df_filled['v2ProductName'] == product_name]\n",
    "\n",
    "# Group by date and calculate the number of transactions per day\n",
    "daily_transactions = df_product.groupby(df_product['date'].dt.date).agg({\n",
    "    'transactions': 'sum'\n",
    "}).reset_index()\n",
    "\n",
    "# Calculate the average number of transactions per day\n",
    "average_transactions_per_day = daily_transactions['transactions'].mean()\n",
    "\n",
    "# Display the results\n",
    "print(f\"Average number of transactions per day for {product_name}: {average_transactions_per_day}\")\n",
    "\n",
    "# Optionally, display daily transactions for visualization\n",
    "import matplotlib.pyplot as plt\n",
    "\n",
    "plt.figure(figsize=(12, 6))\n",
    "plt.plot(daily_transactions['date'], daily_transactions['transactions'], marker='o', linestyle='-', label='Daily Transactions')\n",
    "plt.axhline(y=average_transactions_per_day, color='r', linestyle='--', label=f'Average: {average_transactions_per_day:.2f}')\n",
    "plt.title(f'Daily Transactions for {product_name}')\n",
    "plt.xlabel('Date')\n",
    "plt.ylabel('Total Transaction')\n",
    "plt.grid(True)\n",
    "plt.xticks(rotation=45)\n",
    "plt.legend()\n",
    "plt.tight_layout()\n",
    "plt.show()\n"
   ]
  },
  {
   "cell_type": "markdown",
   "metadata": {},
   "source": [
    "### Anomali Deteksi dengan Z-Score\n",
    "\n",
    "Hasilnya tergantung pada threshold yang dipakai"
   ]
  },
  {
   "cell_type": "code",
   "execution_count": 57,
   "metadata": {},
   "outputs": [
    {
     "name": "stdout",
     "output_type": "stream",
     "text": [
      "Average number of transactions per day for Google Men's 100% Cotton Short Sleeve Hero Tee Black: 0.25\n",
      "Anomalies detected using Z-Score:\n",
      "     datetime  transactions  z_score\n",
      "3  2017-04-16           1.0      1.5\n"
     ]
    },
    {
     "data": {
      "image/png": "[encoded data removed]",
      "text/plain": [
       "<Figure size 1200x600 with 1 Axes>"
      ]
     },
     "metadata": {},
     "output_type": "display_data"
    }
   ],
   "source": [
    "import pandas as pd\n",
    "import matplotlib.pyplot as plt\n",
    "import numpy as np\n",
    "\n",
    "# Sample dataframe (assuming df_filled is already defined and loaded)\n",
    "# df_filled = pd.read_csv('your_data.csv') # Example of loading the dataset\n",
    "\n",
    "# Convert the 'date' column to datetime format if it's not already\n",
    "df_filled['datetime'] = pd.to_datetime(df_filled['date'])\n",
    "\n",
    "# Filter the dataset for a specific product\n",
    "product_name = \"Google Men's 100% Cotton Short Sleeve Hero Tee Black\"  # Replace with the specific product name\n",
    "df_product = df_filled[df_filled['v2ProductName'] == product_name]\n",
    "\n",
    "# Group by date and calculate the number of transactions per day\n",
    "daily_transactions = df_product.groupby(df_product['datetime'].dt.date).agg({\n",
    "    'transactions': 'sum'\n",
    "}).reset_index()\n",
    "\n",
    "# Calculate the average number of transactions per day\n",
    "average_transactions_per_day = daily_transactions['transactions'].mean()\n",
    "\n",
    "# Calculate Z-scores\n",
    "mean = daily_transactions['transactions'].mean()\n",
    "std_dev = daily_transactions['transactions'].std()\n",
    "daily_transactions['z_score'] = (daily_transactions['transactions'] - mean) / std_dev\n",
    "\n",
    "# Define a threshold for Z-score to detect anomalies (e.g., |Z| > 3)\n",
    "threshold = 1\n",
    "anomalies = daily_transactions[daily_transactions['z_score'].abs() > threshold]\n",
    "\n",
    "# Display the results\n",
    "print(f\"Average number of transactions per day for {product_name}: {average_transactions_per_day:.2f}\")\n",
    "print(\"Anomalies detected using Z-Score:\")\n",
    "print(anomalies)\n",
    "\n",
    "# Optionally, display daily transactions for visualization\n",
    "plt.figure(figsize=(12, 6))\n",
    "plt.plot(daily_transactions['datetime'], daily_transactions['transactions'], marker='o', linestyle='-', label='Daily Transactions')\n",
    "plt.axhline(y=average_transactions_per_day, color='r', linestyle='--', label=f'Average: {average_transactions_per_day:.2f}')\n",
    "\n",
    "# Highlight anomalies\n",
    "plt.scatter(anomalies['datetime'], anomalies['transactions'], color='red', label='Anomalies', zorder=5)\n",
    "\n",
    "plt.title(f'Daily Transactions for {product_name}')\n",
    "plt.xlabel('Date')\n",
    "plt.ylabel('Total Transactions')\n",
    "plt.grid(True)\n",
    "plt.xticks(rotation=45)\n",
    "plt.legend()\n",
    "plt.tight_layout()\n",
    "plt.show()\n"
   ]
  },
  {
   "cell_type": "markdown",
   "metadata": {},
   "source": [
    "# Case 3"
   ]
  },
  {
   "cell_type": "markdown",
   "metadata": {},
   "source": [
    "terdapat data sample dengan nilai{'(not set)', 'not available in demo dataset'} "
   ]
  },
  {
   "cell_type": "code",
   "execution_count": 77,
   "metadata": {},
   "outputs": [
    {
     "name": "stdout",
     "output_type": "stream",
     "text": [
      "Most Profitable City:\n",
      "city                       not available in demo dataset\n",
      "totalTransactionRevenue                    65102440000.0\n",
      "Name: 170, dtype: object\n",
      "\n",
      "Most Profitable Province:\n",
      "country                     United States\n",
      "totalTransactionRevenue    110441990000.0\n",
      "Name: 101, dtype: object\n"
     ]
    }
   ],
   "source": [
    "\n",
    "\n",
    "# Group by city and sum total transaction revenue\n",
    "city_revenue = df.groupby('city')['totalTransactionRevenue'].sum().reset_index()\n",
    "\n",
    "# Group by province and sum total transaction revenue\n",
    "province_revenue = df.groupby('country')['totalTransactionRevenue'].sum().reset_index()\n",
    "\n",
    "# Find the most profitable city\n",
    "most_profitable_city = city_revenue.loc[city_revenue['totalTransactionRevenue'].idxmax()]\n",
    "\n",
    "# Find the most profitable province\n",
    "most_profitable_province = province_revenue.loc[province_revenue['totalTransactionRevenue'].idxmax()]\n",
    "\n",
    "# Print results\n",
    "print(\"Most Profitable City:\")\n",
    "print(most_profitable_city)\n",
    "\n",
    "print(\"\\nMost Profitable Province:\")\n",
    "print(most_profitable_province)"
   ]
  },
  {
   "cell_type": "markdown",
   "metadata": {},
   "source": [
    "penambahan baris untuk mengabaikan data tertentu. dalam case ini data '(not set)','not available in demo dataset'"
   ]
  },
  {
   "cell_type": "code",
   "execution_count": 27,
   "metadata": {},
   "outputs": [
    {
     "name": "stdout",
     "output_type": "stream",
     "text": [
      "Most Profitable City (excluding certain cities):\n",
      "city                            New York\n",
      "totalTransactionRevenue    21250810000.0\n",
      "Name: 103, dtype: object\n"
     ]
    }
   ],
   "source": [
    "cities_to_ignore = ['(not set)','not available in demo dataset']\n",
    "\n",
    "# Filter out cities to ignore\n",
    "df_filtered = df[~df['city'].isin(cities_to_ignore)]\n",
    "\n",
    "# Group by city and sum total transaction revenue\n",
    "city_revenue = df_filtered.groupby('city')['totalTransactionRevenue'].sum().reset_index()\n",
    "\n",
    "# Find the most profitable city\n",
    "most_profitable_city = city_revenue.loc[city_revenue['totalTransactionRevenue'].idxmax()]\n",
    "\n",
    "# Print results\n",
    "print(\"Most Profitable City (excluding certain cities):\")\n",
    "print(most_profitable_city)"
   ]
  },
  {
   "cell_type": "markdown",
   "metadata": {},
   "source": [
    "gpt link: https://chatgpt.com/share/72a9f89a-c9e6-4d22-baa0-f81ddb51d3cf "
   ]
  }
 ],
 "metadata": {
  "kernelspec": {
   "display_name": "deEnv",
   "language": "python",
   "name": "python3"
  },
  "language_info": {
   "codemirror_mode": {
    "name": "ipython",
    "version": 3
   },
   "file_extension": ".py",
   "mimetype": "text/x-python",
   "name": "python",
   "nbconvert_exporter": "python",
   "pygments_lexer": "ipython3",
   "version": "3.10.14"
  }
 },
 "nbformat": 4,
 "nbformat_minor": 2
}
